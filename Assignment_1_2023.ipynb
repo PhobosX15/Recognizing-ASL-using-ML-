{
 "cells": [
  {
   "cell_type": "code",
   "execution_count": null,
   "metadata": {
    "id": "0pKg2srKaejL",
    "tags": []
   },
   "outputs": [],
   "source": [
    "# Fill in your name using the given format\n",
    "your_name = \"LAST_NAME, FIRST_NAME\""
   ]
  },
  {
   "cell_type": "code",
   "execution_count": null,
   "metadata": {
    "deletable": false,
    "editable": false,
    "id": "4j0-kHyM_5m4",
    "tags": []
   },
   "outputs": [],
   "source": [
    "# For use in colab\n",
    "if 'google.colab' in str(get_ipython()):\n",
    "  !python -m pip install -r student-requirements.txt --quiet"
   ]
  },
  {
   "cell_type": "code",
   "execution_count": null,
   "metadata": {
    "colab": {
     "base_uri": "https://localhost:8080/",
     "height": 341
    },
    "deletable": false,
    "editable": false,
    "id": "1f9lid3Q-eFv",
    "outputId": "2466b44d-3a38-47e4-b60f-a8fd7509657b",
    "tags": []
   },
   "outputs": [],
   "source": [
    "# Uncomment the following line to run in Google Colab\n",
    "# This will link the notebook to your Google drive to store your models and cache the dataset.\n",
    "# This will probably ask you to click on a link to get a verification code.\n",
    "\n",
    "# from google.colab import drive\n",
    "# import gdown\n",
    "# drive.mount('/content/drive', force_remount=True)"
   ]
  },
  {
   "cell_type": "markdown",
   "metadata": {
    "deletable": false,
    "editable": false,
    "id": "FIDKkmabREQF"
   },
   "source": [
    "# Assignment 1\n",
    "The original MNIST image dataset of handwritten digits is a popular benchmark for image-based machine learning methods but researchers have renewed efforts to update it and develop drop-in replacements that are more challenging for computer vision and original for real-world applications. \n",
    "\n",
    "American Sign Language(ASL) is a complete, natural language that has the same linguistic properties as spoken languages, with grammar that differs from English. ASL is expressed by the movement of hands and faces. \n",
    "\n",
    "For this assignment, we will study classifiers on the Sign MNIST dataset. The dataset consists of images of hand signs, each image is of 28 x 28 size and in grayscale format. The dataset format is patterned to match closely with the classic MNIST. Images in the dataset belong to a label from 0–25 representing letters from A-Z(but no cases of 9=J or 25=Z as they involve hand motion).\n",
    "\n",
    "<img src='https://drive.google.com/uc?id=1TjxZ-AO45PNcCYis_HqDjb8d2__7QJi3'>\n"
   ]
  },
  {
   "cell_type": "code",
   "execution_count": null,
   "metadata": {
    "colab": {
     "base_uri": "https://localhost:8080/"
    },
    "deletable": false,
    "editable": false,
    "id": "YcLHcftVaejP",
    "outputId": "3ec1db8a-6372-484d-8f57-900b53718c13",
    "tags": []
   },
   "outputs": [],
   "source": [
    "# imports\n",
    "import pandas as pd\n",
    "import numpy as np\n",
    "import matplotlib.pyplot as plt\n",
    "import openml\n",
    "import time\n",
    "import math\n",
    "import tqdm\n",
    "%matplotlib inline\n",
    "\n",
    "import validation\n",
    "\n",
    "# Pre-flight checklist. Do not change this code.\n",
    "# Make sure that you have installed recent versions of key packages.\n",
    "from packaging import version\n",
    "import sklearn\n",
    "sklearn_version = sklearn.__version__\n",
    "if version.parse(sklearn_version) < version.parse(\"1.2.0\"):\n",
    "    print(\"scikit-learn is outdated: {}. Please update now! pip install -U scikit-learn\".format(sklearn_version))\n",
    "else:\n",
    "    print(\"OK. You may continue :)\")"
   ]
  },
  {
   "cell_type": "code",
   "execution_count": null,
   "metadata": {
    "colab": {
     "base_uri": "https://localhost:8080/"
    },
    "deletable": false,
    "editable": false,
    "id": "yy7quNjv_etd",
    "outputId": "c0a32424-611a-4c27-9ec8-7afe2ffdfb45",
    "tags": []
   },
   "outputs": [],
   "source": [
    "# Loading Sign MNIST data from OpenML.\n",
    "# Don't overwrite the X, X_eval and y, y_eval variables anywhere in this notebook. \n",
    "# Seriously, don't.\n",
    "\n",
    "data = openml.datasets.get_dataset(45082)\n",
    "sign_mnist_X, sign_mnist_y, _, _ = data.get_data(target=data.default_target_attribute)\n",
    "\n",
    "X = sign_mnist_X.iloc[:27455]\n",
    "y = sign_mnist_y.iloc[:27455]\n",
    "X = X/255\n",
    "y = y.astype('category')\n",
    "\n",
    "X_eval = sign_mnist_X.iloc[27455:].reset_index(drop = True)\n",
    "y_eval = sign_mnist_y.iloc[27455:].reset_index(drop = True)\n",
    "X_eval = X_eval/255\n",
    "y_eval = y_eval.astype('category')\n",
    "\n",
    "# These are the letters corresponding to each sign (our 24 classes)\n",
    "data_classes = {0:\"A\", 1: \"B\", 2: \"C\", 3: \"D\", 4: \"E\", 5: \"F\", \n",
    "                6: \"G\", 7: \"H\", 8: \"I\", 10: \"K\", 11: \"L\", 12: \"M\", \n",
    "                13: \"N\", 14: \"O\", 15: \"P\", 16: \"Q\", 17: \"R\", 18: \"S\",\n",
    "                19: \"T\", 20: \"U\", 21: \"V\", 22: \"W\", 23: \"X\", 24:\"Y\"}\n",
    "letter_to_index = {v: k for k, v in data_classes.items()}"
   ]
  },
  {
   "cell_type": "code",
   "execution_count": null,
   "metadata": {
    "deletable": false,
    "editable": false,
    "id": "cZRw5I6WaejR",
    "tags": []
   },
   "outputs": [],
   "source": [
    "# Plotting helper functions. Don't edit these.\n",
    "%matplotlib inline\n",
    "from IPython import display\n",
    "from tqdm.notebook import tqdm_notebook\n",
    "\n",
    "def plot_live(X, y, evaluator, param_name, param_range, scale='log', ylim=(0,1), ylabel='score', marker = '.'):\n",
    "    \"\"\" Renders a plot that updates with every evaluation from the evaluator.\n",
    "    Keyword arguments:\n",
    "    X -- the data for training and testing\n",
    "    y -- the correct labels\n",
    "    evaluator -- a function with signature (X, y, param_value) that returns a dictionary of scores.\n",
    "                 Examples: {\"train\": 0.9, \"test\": 0.95} or {\"model_1\": 0.9, \"model_2\": 0.7}\n",
    "    param_name -- the parameter that is being varied on the X axis. Can be a hyperparameter, sample size,...\n",
    "    param_range -- list of all possible values on the x-axis\n",
    "    scale -- defines which scale to plot the x-axis on, either 'log' (logarithmic) or 'linear'\n",
    "    ylim -- tuple with the lowest and highest y-value to plot (e.g. (0, 1))\n",
    "    ylabel -- the y-axis title\n",
    "    \"\"\"\n",
    "    # Plot interactively\n",
    "    plt.ion()\n",
    "    plt.ylabel(ylabel)\n",
    "    plt.xlabel(param_name)\n",
    "    \n",
    "    # Make the scale look nice\n",
    "    plt.xscale(scale)\n",
    "    plt.xlim(param_range[0],param_range[-1])\n",
    "    plt.ylim(ylim)\n",
    "        \n",
    "    # Start from empty plot, then fill it\n",
    "    series = {}\n",
    "    lines = {}\n",
    "    xvals = []\n",
    "    for i in tqdm_notebook(param_range):\n",
    "        scores = evaluator(X, y, i) \n",
    "        if i == param_range[0]: # initialize series\n",
    "            for k in scores.keys():\n",
    "                lines[k], = plt.plot(xvals, [], marker = marker, label = k)\n",
    "                series[k] = []\n",
    "        xvals.append(i)\n",
    "        for k in scores.keys(): # append new data\n",
    "            series[k].append(scores[k])\n",
    "            lines[k].set_data(xvals, series[k])\n",
    "        # refresh plot\n",
    "        plt.legend(loc='best')\n",
    "        plt.margins(0.1)\n",
    "        display.display(plt.gcf())\n",
    "        display.clear_output(wait=True)\n",
    "\n",
    "# Plots data instances as 28x28 images\n",
    "def plot_examples(images, labels, row_length=5, title=\"\"):\n",
    "    \"\"\" Renders a set of images\n",
    "    images -- an array of 28x28 images as 1D vectors\n",
    "    labels -- the corresponding labels for each image\n",
    "    row_length -- how many images should be shown per line\n",
    "    title -- a title for the produced figure\n",
    "    \"\"\"\n",
    "    nr_rows = math.floor(len(images) / row_length)\n",
    "    if (len(images) % row_length) > 0:\n",
    "        nr_rows += 1\n",
    "    fig, axes = plt.subplots(nr_rows, row_length, figsize=(1.5 * row_length, 1.5 * nr_rows))\n",
    "    for i, n in enumerate(images):\n",
    "        if len(images) > row_length:\n",
    "            axes[math.floor(i/row_length)][i%row_length].imshow(n.reshape(28, 28), cmap=plt.cm.gray_r)\n",
    "            if labels is not None:\n",
    "              axes[math.floor(i/row_length)][i%row_length].set_xlabel(data_classes[int(labels[i])])\n",
    "            axes[math.floor(i/row_length)][i%row_length].set_xticks(())\n",
    "            axes[math.floor(i/row_length)][i%row_length].set_yticks(())\n",
    "\n",
    "        else:\n",
    "            axes[i].imshow(n.reshape(28, 28), cmap=plt.cm.gray_r)\n",
    "            if labels is not None:\n",
    "              axes[i].set_xlabel(data_classes[int(labels[i])])\n",
    "            axes[i].set_xticks(())\n",
    "            axes[i].set_yticks(())\n",
    "    fig.suptitle(title)       \n",
    "    plt.show();\n",
    "\n",
    "# Plots the coefficients of the given model as 28x28 heatmaps. \n",
    "def plot_coefficients(coef, name):\n",
    "    \"\"\" Renders a 28x28 heatmap of the model's trained coefficients.\n",
    "    Keyword arguments:\n",
    "    coef -- the model coefficients\n",
    "    name -- a title for the produced figure\n",
    "    \"\"\"\n",
    "    fig, ax = plt.subplots(1,1,figsize=(3,3))\n",
    "    fig.suptitle(name)\n",
    "    ax.imshow(coef.reshape(28,28))\n",
    "    ax.set_xticks(()), ax.set_yticks(())"
   ]
  },
  {
   "cell_type": "markdown",
   "metadata": {
    "deletable": false,
    "editable": false,
    "id": "9ZgGoPwfaejS"
   },
   "source": [
    "### Peeking at the data\n",
    "If we plot the hand signs, we see that there is quite some variation. The same\n",
    "letter can be represented in an slightly different way using the hand."
   ]
  },
  {
   "cell_type": "code",
   "execution_count": null,
   "metadata": {
    "colab": {
     "base_uri": "https://localhost:8080/",
     "height": 1000
    },
    "deletable": false,
    "editable": false,
    "id": "nJTbBZMUaejT",
    "outputId": "dea926fc-b539-46fa-875f-23a171b0a057",
    "tags": []
   },
   "outputs": [],
   "source": [
    "# Gets indices of examples with the given class\n",
    "def y_class(c):\n",
    "    return y[y == c].index.values.tolist()[10:17]\n",
    "\n",
    "for i in [i for i in range(25) if i != 9]:\n",
    "    plot_examples(X.to_numpy()[y_class(i)], y.to_numpy()[y_class(i)], \n",
    "                  row_length=7, title=data_classes[i])"
   ]
  },
  {
   "cell_type": "markdown",
   "metadata": {
    "deletable": false,
    "editable": false,
    "id": "xrp4EJcgFGpz"
   },
   "source": [
    "### Question 1.1: Cross-validate (1 point)\n",
    "Implement a method `evaluate_LR` that evaluates a Logistic Regression model for a given regularization constant (C) and returns the train and test score of a 10-fold stratified cross-validation using the accuracy metric. Note: we know that Logistic Regression is not the best technique for image data :). We'll use other techniques in future assignments."
   ]
  },
  {
   "cell_type": "markdown",
   "metadata": {
    "deletable": false,
    "editable": false,
    "id": "uw8L0yI07o_Z"
   },
   "source": [
    "**Important:** Only use the variables passed as parameters (in this case, `X`, `y`, and `C`). Do not add additional parameters to the function, and do not use global variables in the function implementation (except for imported modules and functions, which you are free to use). These guidelines also apply to any future questions in this and future assignment(s)."
   ]
  },
  {
   "cell_type": "code",
   "execution_count": null,
   "metadata": {
    "id": "JTZptANpFWz6"
   },
   "outputs": [],
   "source": [
    "# Implement\n",
    "def evaluate_LR(X, y, C):\n",
    "    \"\"\" Evaluate an LR with 10-fold cross-validation on the provided (X, y) data. \n",
    "    Keyword arguments:\n",
    "    X -- the data for training and testing\n",
    "    y -- the correct labels\n",
    "    C -- the value for the regularization hyperparameter\n",
    "    \n",
    "    Returns: a dictionary with the mean train and test score, e.g. {\"train\": 0.9, \"test\": 0.95}\n",
    "    \"\"\"\n",
    "    pass"
   ]
  },
  {
   "cell_type": "markdown",
   "metadata": {
    "deletable": false,
    "editable": false,
    "id": "b-1PHc2c-rqR"
   },
   "source": [
    "*note:* Throughout the notebook, you will find cells like the one below that call functions on the `validation` module. You should run these cells to perform a _very_ basic test on your provided answer. If validation fails, that means there is a technical error with the provided answer (e.g., the function signature was changed). Passing validation does *not* necessarily mean your answer is correct. It is *not* a replacement for performing your own sanity checks."
   ]
  },
  {
   "cell_type": "code",
   "execution_count": null,
   "metadata": {
    "deletable": false,
    "editable": false,
    "id": "CO2sHsJp1LnR"
   },
   "outputs": [],
   "source": [
    "validation.is_legal_function(evaluate_LR)"
   ]
  },
  {
   "cell_type": "markdown",
   "metadata": {
    "deletable": false,
    "editable": false,
    "id": "xnoC4hfxaejV"
   },
   "source": [
    "### Question 1.2: Tune (1 point)\n",
    "\n",
    "Implement a method `plot_curve` that plots the results of `evaluate_LR` on a 25% stratified subsample of the Sign MNIST dataset for C values ranging from 1e-4 (10<sup>-4</sup>) to 1e5 (10<sup>5</sup>) (on a log base 10 scale, at least 10 values). Use `random_state=0`. You can use the plotting function `plot_live` defined above (carefully read what it does), and add any helper functions you like. Note:  To be clear, you need to pass only 25% of the data to `evaluate_LR`. Using a 25% subsample won't give you optimal performance, but this is meant to make the function run faster which makes it easier to test your implementation for the purpose of the assignment."
   ]
  },
  {
   "cell_type": "code",
   "execution_count": null,
   "metadata": {
    "id": "zEWF0sB8aejV"
   },
   "outputs": [],
   "source": [
    "# Implement. Do not change the name or signature of this function.\n",
    "def plot_curve(X,y):\n",
    "    \"\"\" Plots the train and test accuracy of logistic regression on a 25% \n",
    "    subsample of the given data for different amounts of regularization.\n",
    "    X -- the data for training and testing\n",
    "    y -- the correct labels\n",
    "    \n",
    "    Returns: a plot as described above, with C on the x-axis and accuracy on \n",
    "    the y-axis. \n",
    "    \"\"\"\n",
    "    pass\n",
    "plot_curve(X,y)"
   ]
  },
  {
   "cell_type": "code",
   "execution_count": null,
   "metadata": {
    "deletable": false,
    "editable": false,
    "id": "WpWZrhxyBDV0"
   },
   "outputs": [],
   "source": [
    "validation.is_legal_function(plot_curve)"
   ]
  },
  {
   "cell_type": "markdown",
   "metadata": {
    "deletable": false,
    "editable": false,
    "id": "EWCXN8RlUNAl"
   },
   "source": [
    "### Question 1.3: Interpretation (0.5 point)\n",
    "Interpret the graph. At C=1e-3, is the model underfitting, overfitting, or neither? What about the model trained with C=1e4? Below are a number of possible interpretations. Enter the correct letter in value `q_1.3` in the code.\n",
    "  \n",
    "- 'A': Overfitting at C=1e-3, underfitting at C=1e4.\n",
    "- 'B': Underfitting at C=1e-3, overfitting at C=1e4.  \n",
    "- 'C': Neither underfitting nor overfitting at C=1e-3, overfitting at C=1e4.\n",
    "- 'D': Neither underfitting nor overfitting at C=1e-3, underfitting at C=1e4.\n",
    "- 'E': Overfitting at C=1e-3, neither significantly underfitting nor overfitting at C=1e4.\n",
    "- 'F': Underfitting at C=1e-3, neither significantly underfitting nor overfitting at C=1e4.\n",
    "- 'G': Neither underfitting nor overfitting at both values for C.\n",
    "- 'H': No answer"
   ]
  },
  {
   "cell_type": "code",
   "execution_count": null,
   "metadata": {
    "id": "qaQGRI_C7A10"
   },
   "outputs": [],
   "source": [
    "# Fill in the correct answer. Don't change the name of the variable\n",
    "q_1_3 = 'H'"
   ]
  },
  {
   "cell_type": "code",
   "execution_count": null,
   "metadata": {
    "colab": {
     "base_uri": "https://localhost:8080/"
    },
    "deletable": false,
    "editable": false,
    "id": "v8jcRmYIXGpd",
    "outputId": "60cef5a7-2cea-4b8c-a30b-579b31c661f1"
   },
   "outputs": [],
   "source": [
    "validation.is_legal_answer(q_1_3, n_options=8)"
   ]
  },
  {
   "cell_type": "markdown",
   "metadata": {
    "deletable": false,
    "editable": false,
    "id": "tUz9jtlsA3xj"
   },
   "source": [
    "### Question 2.1: Characters subsets (1 point)\n",
    "\n",
    "\n",
    "Create a function to retrieve a subset of all images containing hand sign for a specific list of characters provided as argument to the function. Implement `get_subset()` to select a subset of hand sign images representing only the characters from a list. The function should retrieve all images for the given character(s) and no images of other classes.\n",
    "\n"
   ]
  },
  {
   "cell_type": "code",
   "execution_count": null,
   "metadata": {
    "id": "5ppeQ5lYC8UH"
   },
   "outputs": [],
   "source": [
    "# Implement. Do not change the name or signature of this function.\n",
    "def get_subset(X, y, characters_list):\n",
    "    \"\"\" Select the subset from X that contains only the images representing\n",
    "        the classes from characters_list\n",
    "    X -- the data to sample from\n",
    "    y -- all the labels\n",
    "    characters_list -- the required list of characters (classes)\n",
    "    \n",
    "    Returns: A dataframe containing a subset of X with classes only from characters_list\n",
    "    \"\"\"\n",
    "    pass\n",
    "\n",
    "# You can use the code below to visualize the results.\n",
    "# ab_subset = get_character_subset(X, y, ['A', 'B'])\n",
    "# plt.imshow(ab_subset.sample(1).to_numpy().reshape(28, 28), cmap = \"gray\")"
   ]
  },
  {
   "cell_type": "code",
   "execution_count": null,
   "metadata": {
    "deletable": false,
    "editable": false,
    "id": "07oekOAh4bMK"
   },
   "outputs": [],
   "source": [
    "validation.is_legal_function(get_subset, X, y, characters_list=[\"A\", \"B\"])"
   ]
  },
  {
   "cell_type": "markdown",
   "metadata": {
    "deletable": false,
    "editable": false,
    "id": "Ris7uWnfdF0b"
   },
   "source": [
    "### Question 2.2: Model inspection (1 points)\n",
    "Implement a function `plot_sign_coefficients` that plots a heatmap of the coefficients of three models (after training), one trained with C=1e-4, one with C=0.01, and one with C=1. You can use the `plot_coefficients` helper function (see above). \n",
    "\n",
    "Only plot the coefficients of the model that separates the signs for characters `A` and `B` from the other signs. You can assume that a one-vs-rest-like approach is used for multi-class problems, hence the n-th set of coefficients belong to the model that separates the n-th class. Select one element of the subset returned by `get_subset()` for both [`A`] and [`B`] characters and plot them together with the coeficients. You should get eight plots (2 sets of four plots: one character plot and three coeficients plots) in total.\n",
    "\n",
    "First split the data in a default stratified train-test split. Train the models on the training data and score the accuracy on the test data. Add the C-value and test accuracy to the title of the plots. \n",
    "\n",
    "Note: You may get convergence warnings. If so, just increase the number of optimization iterations (`max_iter`). Especially models with high C values can take longer to converge (can you guess why?). You can also choose to ignore these warnings since they won't affect the results much. Don't set it too high since that will take to long to run.  \n",
    "\n",
    "Note 2: Scikit-learn actually uses [a more sophisticated approach](https://scikit-learn.org/stable/auto_examples/linear_model/plot_logistic_multinomial.html#sphx-glr-auto-examples-linear-model-plot-logistic-multinomial-py) here than simple one-vs-all. It uses the fact that Logistic Regression predicts probabilities, and hence the probabilities of each class are taken into account (in a softmax function). It will still produce one model per class."
   ]
  },
  {
   "cell_type": "code",
   "execution_count": null,
   "metadata": {
    "id": "isMYUwu52YZE"
   },
   "outputs": [],
   "source": [
    "# Implement. Do not change the name or signature of this function.\n",
    "def plot_sign_coefficients(X, y, character):\n",
    "    \"\"\" Plots 28x28 heatmaps showing the coefficients of three Logistic \n",
    "    Regression models, each with different amounts of regularization values.\n",
    "    X -- the data for training and testing\n",
    "    y -- the correct labels\n",
    "    \n",
    "    Returns: 4 plots, as described above.\n",
    "    \"\"\"\n",
    "    pass\n",
    "\n",
    "plot_sign_coefficients(X, y, None)"
   ]
  },
  {
   "cell_type": "code",
   "execution_count": null,
   "metadata": {
    "deletable": false,
    "editable": false,
    "id": "XgtEys5zBa2Z"
   },
   "outputs": [],
   "source": [
    "validation.is_legal_function(plot_sign_coefficients)"
   ]
  },
  {
   "cell_type": "markdown",
   "metadata": {
    "deletable": false,
    "editable": false,
    "id": "28Ub828yg25q",
    "tags": []
   },
   "source": [
    "### Question 2.3: Interpretation (1 points)\n",
    "Interpret the coefficients plots. Is there any difference between the coeficients for 'A' and the ones for 'B'? For each plotted C, is the model underfitting or overfitting? Below are a number of possible interpretations. Enter the correct letter(s) in value `q_2.3` in the code. They may be separated by spaces, commas, or both (e.g.,: `'ABC'` , `'A,B,C'`, or `'A, B, C`').\n",
    "\n",
    "  \n",
    "- 'A': The coefficients for character `A` and `B` are looking very similar.\n",
    "- 'B': The coefficients for character `A` and `B` are quite different. \n",
    "- 'C': For C=1e-4, the model is overfitted for both characters.\n",
    "- 'D': For C=1e-4, the model is underfitted for both characters.\n",
    "- 'E': For C=1, the model is overfitted for both characters.\n",
    "- 'F': For C=1, the model is underfitted for both characters.\n",
    "- 'G': The middle coefficient plot has a good balance in capturing the different ways to show the characters `A` and `B`.\n",
    "- 'H': The first coefficient plot has a good balance in capturing the different ways to show the characters `A` and `B`.\n",
    "- 'I': The last coefficient plot has a good balance in capturing the different ways to show the characters `A` and `B`.\n",
    "- 'J': No answer"
   ]
  },
  {
   "cell_type": "code",
   "execution_count": null,
   "metadata": {
    "deletable": false,
    "editable": false,
    "id": "xcQPU_eyY7Si",
    "tags": []
   },
   "outputs": [],
   "source": [
    "# Fill in the correct answer(s). Don't change the name of the variable\n",
    "q_2_3 = 'J'"
   ]
  },
  {
   "cell_type": "code",
   "execution_count": null,
   "metadata": {
    "colab": {
     "base_uri": "https://localhost:8080/"
    },
    "deletable": false,
    "editable": false,
    "id": "wC6Wh3OGYGrH",
    "outputId": "d8c23207-bfb3-4495-aecd-3be9dd815c09"
   },
   "outputs": [],
   "source": [
    "validation.is_legal_answer(q_2_3, n_options=10)"
   ]
  },
  {
   "cell_type": "markdown",
   "metadata": {
    "deletable": false,
    "editable": false,
    "id": "_9opnAZ-XgT9"
   },
   "source": [
    "### Question 3.1: Confusion matrix heatmap (0.5 point)\n",
    "\n",
    "Plot the confusion matrix for all the 24 characters classes as a heatmap. First split the data again in a default stratified train-test split. Train a Logistic Regression model on the training data and produce the predictions on the test set. Compute the confusion matrix based on the predictions on the testing data. Plot the matrix as a heatmap without any annotation. Given the large number of classes, there is no need to display in the plot the number (or percentages) corresponding to each cell of the matrix.\n",
    "\n",
    "Implement `plot_confusion_matrix()` function to compute the confusion matrix (using [sklearn.metrics](https://scikit-learn.org/stable/modules/model_evaluation.html)) and to display the matrix as a heatmap."
   ]
  },
  {
   "cell_type": "code",
   "execution_count": null,
   "metadata": {
    "id": "B5AueR9Zwnch"
   },
   "outputs": [],
   "source": [
    "# Implement the confusion matrix plot here\n",
    "def plot_confusion_matrix(X, y):\n",
    "  pass\n",
    "\n",
    "plot_confusion_matrix(X, y)"
   ]
  },
  {
   "cell_type": "code",
   "execution_count": null,
   "metadata": {
    "deletable": false,
    "editable": false,
    "id": "HNfirj6FBn5z"
   },
   "outputs": [],
   "source": [
    "validation.is_legal_function(plot_confusion_matrix)"
   ]
  },
  {
   "cell_type": "markdown",
   "metadata": {
    "deletable": false,
    "editable": false,
    "id": "nrk9RwEeRl_Y"
   },
   "source": [
    "### Question 3.2: Mistake analysis (1 point)\n",
    "\n",
    "Let's now focus on the sign for character 'K' and the behavior of the model with C=1e-2.\n",
    "\n",
    "First split the data again in a default stratified train-test split. Train the models on the training data and produce the predictions on the test data.\n",
    "\n",
    "Next, take the test examples which actually represent 'K'. From these, identify the ones which are predicted correctly and which ones are not. Calculate the confusion matrix and based on that print the Top-5 characters that are wrongly classified as 'K' along with their count.\n",
    "\n",
    "Finally, plot these examples using the `plot_examples` function, together with the predicted class (character). Create two plots (e.g. by calling `plot_examples` twice): one with 20 examples of signs for 'K' character which are predicted correctly, and a second with 20 examples of signs for 'K' character which are predicted incorrectly by this model. Indicate in the figure `title` which 'K' characters are correct and which ones are misclassified."
   ]
  },
  {
   "cell_type": "code",
   "execution_count": null,
   "metadata": {
    "id": "v_zYvqI-Ti4m"
   },
   "outputs": [],
   "source": [
    "# Implement. Do not change the name or signature of this function.\n",
    "def plot_mistakes(X,y,character):\n",
    "    \"\"\" Plots two sets of images. The first set shows 20 examples of characters\n",
    "    predicted correctly by a Logistic Regression classifier with C=1e-2. The \n",
    "    second set shows 20 examples of misclassifications. \n",
    "    X -- the data for training and testing\n",
    "    y -- the correct labels\n",
    "    Returns: 2 sets of plots, as described above.\n",
    "    \"\"\"\n",
    "    pass\n",
    "\n",
    "plot_mistakes(X,y,'K')"
   ]
  },
  {
   "cell_type": "code",
   "execution_count": null,
   "metadata": {
    "deletable": false,
    "editable": false,
    "id": "CNK7NrXlB_Lz"
   },
   "outputs": [],
   "source": [
    "validation.is_legal_function(plot_mistakes)"
   ]
  },
  {
   "cell_type": "markdown",
   "metadata": {
    "deletable": false,
    "editable": false,
    "id": "HNs39QAvUTqw"
   },
   "source": [
    "## Question 3.2: Interpretation (0.5 point)\n",
    "Interpret the missclasified signs of the Logistic Regression model with C=1e-2.Enter the correct letter in value `q_3.2` in the code.\n",
    "\n",
    "  \n",
    "- 'A': The sign for `K` is misclassified often with `V`\n",
    "- 'B': The sign for `K` is misclassified often with `C`\n",
    "- 'C': The sign for `K` is misclassified often with `A`\n",
    "- 'D': The sign for `K` is misclassified often with `Q`\n",
    "- 'E': No answer"
   ]
  },
  {
   "cell_type": "code",
   "execution_count": null,
   "metadata": {
    "id": "kBBVz4AamVW6"
   },
   "outputs": [],
   "source": [
    "# Fill in the correct answer. Don't change the name of the variable\n",
    "q_3_2 = 'E'"
   ]
  },
  {
   "cell_type": "code",
   "execution_count": null,
   "metadata": {
    "colab": {
     "base_uri": "https://localhost:8080/"
    },
    "deletable": false,
    "editable": false,
    "id": "SUnO9HekYMBg",
    "outputId": "7bf28a1f-75cc-4447-c3cf-de7aa664b65b"
   },
   "outputs": [],
   "source": [
    "validation.is_legal_answer(q_3_2, n_options=5)"
   ]
  },
  {
   "cell_type": "markdown",
   "metadata": {
    "deletable": false,
    "editable": false,
    "id": "kgmIvbb09T6b"
   },
   "source": [
    "### Question 4.1 : HOG features (1 point)\n",
    "Until now, we only used the pixel representation. There are may other ways of feature representation that work much better. One of these is the histogram of oriented gradients (HOG), which counts the occurrences of gradient orientations in localized portions of an image. You can read more about HOG feature descriptors [here](https://towardsdatascience.com/hog-histogram-of-oriented-gradients-67ecd887675f).\n",
    "\n",
    "Using the **scikit-image** implementation, compute the hog features of an image containing a sign for *K* character. You can have a look at this [tutorial](https://scikit-image.org/docs/stable/auto_examples/features_detection/plot_hog.html). Implement a method `plot_hog_feature` showing an original image and its hog representation side by side. Play with different cell sizes to get a visually better representation. Finally, implement a method `plot_hog_features` that plots multiple cell sizes at once.\n",
    "\n",
    "This question is deliberative more free-from. You can make your own decisions as long as you adhere to the general method signatures and produce the right output."
   ]
  },
  {
   "cell_type": "code",
   "execution_count": null,
   "metadata": {
    "id": "6fkIzu981odq"
   },
   "outputs": [],
   "source": [
    "# Implement. Do not change the name or signature of this function.\n",
    "def plot_hog_feature(original_image, hog_image, cell_size = 2):\n",
    "  pass\n",
    "\n",
    "# Implement. Do not change the name or signature of this function.\n",
    "def plot_hog_features(X, y, character):\n",
    "  pass\n",
    "\n",
    "plot_hog_features(X,y, 'K')"
   ]
  },
  {
   "cell_type": "code",
   "execution_count": null,
   "metadata": {
    "deletable": false,
    "editable": false,
    "id": "38DR5Q93CVnN"
   },
   "outputs": [],
   "source": [
    "validation.is_legal_function(plot_hog_features)\n",
    "validation.is_legal_function(plot_hog_feature)"
   ]
  },
  {
   "cell_type": "markdown",
   "metadata": {
    "deletable": false,
    "editable": false,
    "id": "gTFgyYe8y58A"
   },
   "source": [
    "### Question 4.2 : Edge features (0.5 point)\n",
    "\n",
    "Edge Detection is when we use matrix math to calculate areas of different intensities of an image. Areas where there are extreme differences in the intensities of the pixel usually indicate an edge of an object. After finding all of the large differences in intensities in a picture, we have discovered all of the edges in the picture. Sobel Edge detection is a widely used algorithm of edge detection in image processing. Along with Canny and Prewitt, Sobel is one of the most popular edge detection algorithms used in today's technology. You can read more [here](https://scikit-image.org/docs/stable/auto_examples/edges/plot_edge_filter.html).\n",
    "\n",
    "Using the *scikit-image*([scikit-image.filters](https://scikit-image.org/docs/stable/api/skimage.filters.html#skimage.filters.sobel)), compute the Sobel features of three images containing signs for these characters: *C*, *K*, *W*. Implement `plot_edges` function to compute the new features for the three images and plot the resulted edges togheter with the original images.\n",
    "\n"
   ]
  },
  {
   "cell_type": "code",
   "execution_count": null,
   "metadata": {
    "id": "Hj_dBxmHVOge"
   },
   "outputs": [],
   "source": [
    "# Implement. Do not change the name or signature of this function.\n",
    "# Function should return three pairs of plots (original_image, edge_image)\n",
    "# For showing the images, use cmap=\"gray\"\n",
    "def plot_edges(X, y):\n",
    "  pass\n",
    "\n",
    "plot_edges(X, y)"
   ]
  },
  {
   "cell_type": "code",
   "execution_count": null,
   "metadata": {
    "deletable": false,
    "editable": false,
    "id": "AJySMW91CsLk"
   },
   "outputs": [],
   "source": [
    "validation.is_legal_function(plot_edges)"
   ]
  },
  {
   "cell_type": "markdown",
   "metadata": {
    "deletable": false,
    "editable": false,
    "id": "7axNnMHAMNQN",
    "tags": []
   },
   "source": [
    "## Question 4.3 : Model evaluation (1 point)\n",
    "\n",
    "Now it's time to use the evaluation set `(X_eval, y_eval)`.\n",
    "\n",
    "**NOTE: This is the only exercise in which you should use the evaluation set.**\n",
    "\n",
    "Compute both the *HOG features* (inside a function named `compute_hog_feats`) and *Edge features* (inside a function named `compute_edges`) for the whole `(X,y)` dataset.\n",
    "Train a Logistic Regression model for both sets of features and evaluate the performance of the two models on `(X_eval, y_eval)`.\n",
    "Compare the accuracy on the evaluation set with the performance of the model that uses raw pixels as features. Conclude which model is better.\n",
    "\n",
    "Implement `final_evaluator` function that takes the features computed for `X` and `X_eval`, train the best Logistic Regression model and reports the accuracy on the evaluation set. "
   ]
  },
  {
   "cell_type": "code",
   "execution_count": null,
   "metadata": {
    "id": "IwtZXXDWPwuJ"
   },
   "outputs": [],
   "source": [
    "# Implement here the evaluator\n",
    "def final_evaluator(X_features, y, X_eval_features, y_eval):\n",
    "  pass\n",
    "\n",
    "# Implement\n",
    "def compute_hog_feats(X, cell_size):\n",
    "  pass\n",
    "\n",
    "# Compute HOG features for the whole X and X_eval by calling compute_hog_feats\n",
    "X_hog = None\n",
    "X_eval_hog = None\n",
    "\n",
    "\n",
    "# Implement\n",
    "def compute_edges(X):\n",
    "  pass\n",
    "\n",
    "# Compute edge features for the whole X and X_eval by calling compute_edges\n",
    "X_edges = None\n",
    "X_eval_edges = None\n",
    "\n",
    "\n",
    "final_evaluator(X_hog, y, X_eval_hog, y_eval) # should print accuracy for HOG features\n",
    "final_evaluator(X_edges, y, X_eval_edges, y_eval) # should print accuracy for Sobel features\n",
    "final_evaluator(X, y, X_eval, y_eval) # should print accuracy for pixel features"
   ]
  },
  {
   "cell_type": "code",
   "execution_count": null,
   "metadata": {
    "deletable": false,
    "editable": false,
    "id": "AURZQqmRC7MI"
   },
   "outputs": [],
   "source": [
    "validation.is_legal_function(final_evaluator)\n",
    "validation.is_legal_function(compute_edges)\n",
    "validation.is_legal_function(compute_hog_feats)"
   ]
  },
  {
   "cell_type": "markdown",
   "metadata": {
    "deletable": false,
    "editable": false,
    "id": "ah5VB6rsfsCI"
   },
   "source": [
    "Which model performs better on the evaluation set? Interpret the performance on the evaluation set of the three model: the raw pixels, the edge and the hog features. Enter the correct letter(s) in value `q_4.3` in the code.\n",
    "\n",
    "  \n",
    "- 'A': The evaluation data might not be selective from the same data distribution\n",
    "- 'B': The performance on the evaluation set is comparable to the best cross validation result from Q1.2\n",
    "- 'C': The raw pixels model performs the best on the evaluation data\n",
    "- 'D': The hog features model performs the best on the evaluation data\n",
    "- 'E': The edge features model performs the best on the evaluation data\n",
    "- 'F': No answer"
   ]
  },
  {
   "cell_type": "code",
   "execution_count": null,
   "metadata": {
    "id": "p3LDCX7p7jfR"
   },
   "outputs": [],
   "source": [
    "# Fill in the correct answer(s). Don't change the name of the variable\n",
    "q_4_3 = 'F'"
   ]
  },
  {
   "cell_type": "code",
   "execution_count": null,
   "metadata": {
    "colab": {
     "base_uri": "https://localhost:8080/"
    },
    "deletable": false,
    "editable": false,
    "id": "GybcjG_LYUHd",
    "outputId": "34264bd8-09bb-47ca-a099-e39daf19217b",
    "tags": []
   },
   "outputs": [],
   "source": [
    "validation.is_legal_answer(q_4_3, n_options=6)"
   ]
  }
 ],
 "metadata": {
  "anaconda-cloud": {},
  "colab": {
   "provenance": []
  },
  "kernelspec": {
   "display_name": "Python 3 (ipykernel)",
   "language": "python",
   "name": "python3"
  },
  "language_info": {
   "codemirror_mode": {
    "name": "ipython",
    "version": 3
   },
   "file_extension": ".py",
   "mimetype": "text/x-python",
   "name": "python",
   "nbconvert_exporter": "python",
   "pygments_lexer": "ipython3",
   "version": "3.10.9"
  },
  "widgets": {
   "application/vnd.jupyter.widget-state+json": {
    "0eb32eb86a5e4fa8b7e7243aead2e5b9": {
     "model_module": "@jupyter-widgets/controls",
     "model_module_version": "1.5.0",
     "model_name": "ProgressStyleModel",
     "state": {
      "_model_module": "@jupyter-widgets/controls",
      "_model_module_version": "1.5.0",
      "_model_name": "ProgressStyleModel",
      "_view_count": null,
      "_view_module": "@jupyter-widgets/base",
      "_view_module_version": "1.2.0",
      "_view_name": "StyleView",
      "bar_color": null,
      "description_width": ""
     }
    },
    "1c2aaf7e49ed47b887b36b2735caecbb": {
     "model_module": "@jupyter-widgets/base",
     "model_module_version": "1.2.0",
     "model_name": "LayoutModel",
     "state": {
      "_model_module": "@jupyter-widgets/base",
      "_model_module_version": "1.2.0",
      "_model_name": "LayoutModel",
      "_view_count": null,
      "_view_module": "@jupyter-widgets/base",
      "_view_module_version": "1.2.0",
      "_view_name": "LayoutView",
      "align_content": null,
      "align_items": null,
      "align_self": null,
      "border": null,
      "bottom": null,
      "display": null,
      "flex": null,
      "flex_flow": null,
      "grid_area": null,
      "grid_auto_columns": null,
      "grid_auto_flow": null,
      "grid_auto_rows": null,
      "grid_column": null,
      "grid_gap": null,
      "grid_row": null,
      "grid_template_areas": null,
      "grid_template_columns": null,
      "grid_template_rows": null,
      "height": null,
      "justify_content": null,
      "justify_items": null,
      "left": null,
      "margin": null,
      "max_height": null,
      "max_width": null,
      "min_height": null,
      "min_width": null,
      "object_fit": null,
      "object_position": null,
      "order": null,
      "overflow": null,
      "overflow_x": null,
      "overflow_y": null,
      "padding": null,
      "right": null,
      "top": null,
      "visibility": null,
      "width": null
     }
    },
    "1cfc7e6fa6b04eda90d73ea696ab3f7e": {
     "model_module": "@jupyter-widgets/controls",
     "model_module_version": "1.5.0",
     "model_name": "DescriptionStyleModel",
     "state": {
      "_model_module": "@jupyter-widgets/controls",
      "_model_module_version": "1.5.0",
      "_model_name": "DescriptionStyleModel",
      "_view_count": null,
      "_view_module": "@jupyter-widgets/base",
      "_view_module_version": "1.2.0",
      "_view_name": "StyleView",
      "description_width": ""
     }
    },
    "2b27982e9024459f8f7e4889f22af9ea": {
     "model_module": "@jupyter-widgets/controls",
     "model_module_version": "1.5.0",
     "model_name": "HTMLModel",
     "state": {
      "_dom_classes": [],
      "_model_module": "@jupyter-widgets/controls",
      "_model_module_version": "1.5.0",
      "_model_name": "HTMLModel",
      "_view_count": null,
      "_view_module": "@jupyter-widgets/controls",
      "_view_module_version": "1.5.0",
      "_view_name": "HTMLView",
      "description": "",
      "description_tooltip": null,
      "layout": "IPY_MODEL_1c2aaf7e49ed47b887b36b2735caecbb",
      "placeholder": "​",
      "style": "IPY_MODEL_9f6b7c235ced4676b56c67e0e1f50cb5",
      "value": "100%"
     }
    },
    "6908ac969f4b453e812b588eebd94129": {
     "model_module": "@jupyter-widgets/controls",
     "model_module_version": "1.5.0",
     "model_name": "HTMLModel",
     "state": {
      "_dom_classes": [],
      "_model_module": "@jupyter-widgets/controls",
      "_model_module_version": "1.5.0",
      "_model_name": "HTMLModel",
      "_view_count": null,
      "_view_module": "@jupyter-widgets/controls",
      "_view_module_version": "1.5.0",
      "_view_name": "HTMLView",
      "description": "",
      "description_tooltip": null,
      "layout": "IPY_MODEL_f524080054be4d39b96eea5e34304805",
      "placeholder": "​",
      "style": "IPY_MODEL_1cfc7e6fa6b04eda90d73ea696ab3f7e",
      "value": " 10/10 [06:42&lt;00:00, 41.51s/it]"
     }
    },
    "806071b8c91947d78aa350ef313ca67f": {
     "model_module": "@jupyter-widgets/base",
     "model_module_version": "1.2.0",
     "model_name": "LayoutModel",
     "state": {
      "_model_module": "@jupyter-widgets/base",
      "_model_module_version": "1.2.0",
      "_model_name": "LayoutModel",
      "_view_count": null,
      "_view_module": "@jupyter-widgets/base",
      "_view_module_version": "1.2.0",
      "_view_name": "LayoutView",
      "align_content": null,
      "align_items": null,
      "align_self": null,
      "border": null,
      "bottom": null,
      "display": null,
      "flex": null,
      "flex_flow": null,
      "grid_area": null,
      "grid_auto_columns": null,
      "grid_auto_flow": null,
      "grid_auto_rows": null,
      "grid_column": null,
      "grid_gap": null,
      "grid_row": null,
      "grid_template_areas": null,
      "grid_template_columns": null,
      "grid_template_rows": null,
      "height": null,
      "justify_content": null,
      "justify_items": null,
      "left": null,
      "margin": null,
      "max_height": null,
      "max_width": null,
      "min_height": null,
      "min_width": null,
      "object_fit": null,
      "object_position": null,
      "order": null,
      "overflow": null,
      "overflow_x": null,
      "overflow_y": null,
      "padding": null,
      "right": null,
      "top": null,
      "visibility": null,
      "width": null
     }
    },
    "9f6b7c235ced4676b56c67e0e1f50cb5": {
     "model_module": "@jupyter-widgets/controls",
     "model_module_version": "1.5.0",
     "model_name": "DescriptionStyleModel",
     "state": {
      "_model_module": "@jupyter-widgets/controls",
      "_model_module_version": "1.5.0",
      "_model_name": "DescriptionStyleModel",
      "_view_count": null,
      "_view_module": "@jupyter-widgets/base",
      "_view_module_version": "1.2.0",
      "_view_name": "StyleView",
      "description_width": ""
     }
    },
    "a4e670999c1b4c77b9fbcaf8af731180": {
     "model_module": "@jupyter-widgets/controls",
     "model_module_version": "1.5.0",
     "model_name": "HBoxModel",
     "state": {
      "_dom_classes": [],
      "_model_module": "@jupyter-widgets/controls",
      "_model_module_version": "1.5.0",
      "_model_name": "HBoxModel",
      "_view_count": null,
      "_view_module": "@jupyter-widgets/controls",
      "_view_module_version": "1.5.0",
      "_view_name": "HBoxView",
      "box_style": "",
      "children": [
       "IPY_MODEL_2b27982e9024459f8f7e4889f22af9ea",
       "IPY_MODEL_e3d5409de3cc493b82f02302fdce1c29",
       "IPY_MODEL_6908ac969f4b453e812b588eebd94129"
      ],
      "layout": "IPY_MODEL_806071b8c91947d78aa350ef313ca67f"
     }
    },
    "ae0d28e24e064597bfd821ca51ffd8e9": {
     "model_module": "@jupyter-widgets/base",
     "model_module_version": "1.2.0",
     "model_name": "LayoutModel",
     "state": {
      "_model_module": "@jupyter-widgets/base",
      "_model_module_version": "1.2.0",
      "_model_name": "LayoutModel",
      "_view_count": null,
      "_view_module": "@jupyter-widgets/base",
      "_view_module_version": "1.2.0",
      "_view_name": "LayoutView",
      "align_content": null,
      "align_items": null,
      "align_self": null,
      "border": null,
      "bottom": null,
      "display": null,
      "flex": null,
      "flex_flow": null,
      "grid_area": null,
      "grid_auto_columns": null,
      "grid_auto_flow": null,
      "grid_auto_rows": null,
      "grid_column": null,
      "grid_gap": null,
      "grid_row": null,
      "grid_template_areas": null,
      "grid_template_columns": null,
      "grid_template_rows": null,
      "height": null,
      "justify_content": null,
      "justify_items": null,
      "left": null,
      "margin": null,
      "max_height": null,
      "max_width": null,
      "min_height": null,
      "min_width": null,
      "object_fit": null,
      "object_position": null,
      "order": null,
      "overflow": null,
      "overflow_x": null,
      "overflow_y": null,
      "padding": null,
      "right": null,
      "top": null,
      "visibility": null,
      "width": null
     }
    },
    "e3d5409de3cc493b82f02302fdce1c29": {
     "model_module": "@jupyter-widgets/controls",
     "model_module_version": "1.5.0",
     "model_name": "FloatProgressModel",
     "state": {
      "_dom_classes": [],
      "_model_module": "@jupyter-widgets/controls",
      "_model_module_version": "1.5.0",
      "_model_name": "FloatProgressModel",
      "_view_count": null,
      "_view_module": "@jupyter-widgets/controls",
      "_view_module_version": "1.5.0",
      "_view_name": "ProgressView",
      "bar_style": "success",
      "description": "",
      "description_tooltip": null,
      "layout": "IPY_MODEL_ae0d28e24e064597bfd821ca51ffd8e9",
      "max": 10,
      "min": 0,
      "orientation": "horizontal",
      "style": "IPY_MODEL_0eb32eb86a5e4fa8b7e7243aead2e5b9",
      "value": 10
     }
    },
    "f524080054be4d39b96eea5e34304805": {
     "model_module": "@jupyter-widgets/base",
     "model_module_version": "1.2.0",
     "model_name": "LayoutModel",
     "state": {
      "_model_module": "@jupyter-widgets/base",
      "_model_module_version": "1.2.0",
      "_model_name": "LayoutModel",
      "_view_count": null,
      "_view_module": "@jupyter-widgets/base",
      "_view_module_version": "1.2.0",
      "_view_name": "LayoutView",
      "align_content": null,
      "align_items": null,
      "align_self": null,
      "border": null,
      "bottom": null,
      "display": null,
      "flex": null,
      "flex_flow": null,
      "grid_area": null,
      "grid_auto_columns": null,
      "grid_auto_flow": null,
      "grid_auto_rows": null,
      "grid_column": null,
      "grid_gap": null,
      "grid_row": null,
      "grid_template_areas": null,
      "grid_template_columns": null,
      "grid_template_rows": null,
      "height": null,
      "justify_content": null,
      "justify_items": null,
      "left": null,
      "margin": null,
      "max_height": null,
      "max_width": null,
      "min_height": null,
      "min_width": null,
      "object_fit": null,
      "object_position": null,
      "order": null,
      "overflow": null,
      "overflow_x": null,
      "overflow_y": null,
      "padding": null,
      "right": null,
      "top": null,
      "visibility": null,
      "width": null
     }
    }
   }
  }
 },
 "nbformat": 4,
 "nbformat_minor": 4
}
